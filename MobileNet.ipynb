{
 "cells": [
  {
   "cell_type": "code",
   "execution_count": 1,
   "id": "2bb3170f",
   "metadata": {},
   "outputs": [
    {
     "name": "stderr",
     "output_type": "stream",
     "text": [
      "2023-04-16 20:33:20.931181: I tensorflow/tsl/cuda/cudart_stub.cc:28] Could not find cuda drivers on your machine, GPU will not be used.\n",
      "2023-04-16 20:33:21.143386: I tensorflow/tsl/cuda/cudart_stub.cc:28] Could not find cuda drivers on your machine, GPU will not be used.\n",
      "2023-04-16 20:33:21.145841: I tensorflow/core/platform/cpu_feature_guard.cc:182] This TensorFlow binary is optimized to use available CPU instructions in performance-critical operations.\n",
      "To enable the following instructions: AVX2 FMA, in other operations, rebuild TensorFlow with the appropriate compiler flags.\n",
      "2023-04-16 20:33:22.150782: W tensorflow/compiler/tf2tensorrt/utils/py_utils.cc:38] TF-TRT Warning: Could not find TensorRT\n"
     ]
    }
   ],
   "source": [
    "import numpy as np\n",
    "import tensorflow as tf\n",
    "import pandas as pd\n",
    "import matplotlib.pyplot as plt\n",
    "import os\n",
    "import cv2"
   ]
  },
  {
   "cell_type": "code",
   "execution_count": 2,
   "id": "723ebfe1",
   "metadata": {},
   "outputs": [
    {
     "name": "stdout",
     "output_type": "stream",
     "text": [
      "['Sooty Mould', 'Powdery Mildew', 'Gall Midge', 'Cutting Weevil', 'Die Back', 'Bacterial Canker', 'Anthracnose', 'Healthy']\n"
     ]
    }
   ],
   "source": [
    "dataset_path = os.listdir('MangoLeafBD')\n",
    "print(dataset_path)"
   ]
  },
  {
   "cell_type": "code",
   "execution_count": 3,
   "id": "644e6ad5",
   "metadata": {},
   "outputs": [],
   "source": [
    "class_labels = []\n",
    "\n",
    "for item in dataset_path:\n",
    " # Get all the file names\n",
    "    all_classes = os.listdir('MangoLeafBD' + '/' +item)\n",
    " #print(all_classes)\n",
    "\n",
    " # Add them to the list\n",
    "    for room in all_classes:\n",
    "        class_labels.append((item, str('dataset_path' + '/' +item) + '/' + room))"
   ]
  },
  {
   "cell_type": "code",
   "execution_count": 4,
   "id": "d887397a",
   "metadata": {},
   "outputs": [
    {
     "name": "stdout",
     "output_type": "stream",
     "text": [
      "        Labels                                              image\n",
      "0  Sooty Mould  dataset_path/Sooty Mould/IMG_20211108_121559 (...\n",
      "1  Sooty Mould  dataset_path/Sooty Mould/IMG_20211211_154825 (...\n",
      "2  Sooty Mould  dataset_path/Sooty Mould/IMG_20211211_154608 (...\n",
      "3  Sooty Mould  dataset_path/Sooty Mould/IMG_20211211_154225 (...\n",
      "4  Sooty Mould  dataset_path/Sooty Mould/IMG_20211211_154252 (...\n"
     ]
    }
   ],
   "source": [
    "df = pd.DataFrame(data=class_labels, columns=['Labels', 'image'])\n",
    "print(df.head())"
   ]
  },
  {
   "cell_type": "code",
   "execution_count": 5,
   "id": "1036ff0b",
   "metadata": {},
   "outputs": [
    {
     "name": "stdout",
     "output_type": "stream",
     "text": [
      "       Labels                                              image\n",
      "3995  Healthy  dataset_path/Healthy/20211231_155753 (Custom).jpg\n",
      "3996  Healthy  dataset_path/Healthy/20211231_125054 (Custom).jpg\n",
      "3997  Healthy  dataset_path/Healthy/20211231_161108 (Custom).jpg\n",
      "3998  Healthy  dataset_path/Healthy/20211231_124957 (Custom).jpg\n",
      "3999  Healthy  dataset_path/Healthy/20211231_160229 (Custom).jpg\n"
     ]
    }
   ],
   "source": [
    "print(df.tail())"
   ]
  },
  {
   "cell_type": "code",
   "execution_count": 6,
   "id": "d164d415",
   "metadata": {},
   "outputs": [
    {
     "name": "stdout",
     "output_type": "stream",
     "text": [
      "Sooty Mould         500\n",
      "Powdery Mildew      500\n",
      "Gall Midge          500\n",
      "Cutting Weevil      500\n",
      "Die Back            500\n",
      "Bacterial Canker    500\n",
      "Anthracnose         500\n",
      "Healthy             500\n",
      "Name: Labels, dtype: int64\n"
     ]
    }
   ],
   "source": [
    "print(df['Labels'].value_counts())"
   ]
  },
  {
   "cell_type": "code",
   "execution_count": 7,
   "id": "c26f2fd1",
   "metadata": {},
   "outputs": [],
   "source": [
    "path = 'MangoLeafBD/'\n",
    "\n",
    "im_size = 224\n",
    "\n",
    "images = []\n",
    "labels = []\n",
    "\n",
    "for i in dataset_path:\n",
    "    data_path = path + str(i)\n",
    "    filenames = [i for i in os.listdir(data_path)]\n",
    "    \n",
    "    for f in filenames:\n",
    "        img = cv2.imread(data_path + '/' + f)\n",
    "        img = cv2.resize(img, (im_size, im_size))\n",
    "        images.append(img)\n",
    "        labels.append(i)"
   ]
  },
  {
   "cell_type": "code",
   "execution_count": 8,
   "id": "42eb4d9c",
   "metadata": {},
   "outputs": [
    {
     "data": {
      "text/plain": [
       "(4000, 224, 224, 3)"
      ]
     },
     "execution_count": 8,
     "metadata": {},
     "output_type": "execute_result"
    }
   ],
   "source": [
    "images = np.array(images)\n",
    "images = images.astype('float32') / 255.0\n",
    "images.shape"
   ]
  },
  {
   "cell_type": "code",
   "execution_count": 9,
   "id": "bdb300d7",
   "metadata": {},
   "outputs": [
    {
     "name": "stdout",
     "output_type": "stream",
     "text": [
      "['Sooty Mould' 'Sooty Mould' 'Sooty Mould' ... 'Healthy' 'Healthy'\n",
      " 'Healthy']\n",
      "[7 7 7 ... 5 5 5]\n"
     ]
    }
   ],
   "source": [
    "from sklearn.preprocessing import LabelEncoder , OneHotEncoder\n",
    "y=df['Labels'].values\n",
    "print(y)\n",
    "\n",
    "y_labelencoder = LabelEncoder ()\n",
    "y = y_labelencoder.fit_transform (y)\n",
    "print (y)"
   ]
  },
  {
   "cell_type": "code",
   "execution_count": 10,
   "id": "1301f0a9",
   "metadata": {},
   "outputs": [],
   "source": [
    "y=y.reshape(-1,1)\n",
    "\n",
    "from sklearn.compose import ColumnTransformer\n",
    "ct = ColumnTransformer([('my_ohe', OneHotEncoder(), [0])], remainder='passthrough')\n",
    "Y = ct.fit_transform(y).toarray()\n"
   ]
  },
  {
   "cell_type": "code",
   "execution_count": 11,
   "id": "fc44ef15",
   "metadata": {},
   "outputs": [
    {
     "name": "stdout",
     "output_type": "stream",
     "text": [
      "(3200, 224, 224, 3)\n",
      "(3200, 8)\n",
      "(800, 224, 224, 3)\n",
      "(800, 8)\n"
     ]
    }
   ],
   "source": [
    "from sklearn.utils import shuffle\n",
    "from sklearn.model_selection import train_test_split\n",
    "\n",
    "\n",
    "images, Y = shuffle(images, Y, random_state=1)\n",
    "\n",
    "\n",
    "train_x, test_x, train_y, test_y = train_test_split(images, Y, test_size=0.2, random_state=415)\n",
    "\n",
    "#inpect the shape of the training and testing.\n",
    "print(train_x.shape)\n",
    "print(train_y.shape)\n",
    "print(test_x.shape)\n",
    "print(test_y.shape)"
   ]
  },
  {
   "cell_type": "code",
   "execution_count": null,
   "id": "c3bd5745",
   "metadata": {},
   "outputs": [],
   "source": [
    "from matplotlib.pyplot import imread\n",
    "from matplotlib.pyplot import imshow\n",
    "from tensorflow.keras.preprocessing import image\n",
    "from tensorflow.keras.applications.imagenet_utils import decode_predictions\n",
    "from tensorflow.keras.applications.imagenet_utils import preprocess_input\n",
    "from tensorflow.keras import layers\n",
    "from tensorflow.keras.applications import MobileNetV2"
   ]
  },
  {
   "cell_type": "code",
   "execution_count": null,
   "id": "1d55c6da",
   "metadata": {},
   "outputs": [],
   "source": [
    "NUM_CLASSES = 8\n",
    "IMG_SIZE = 224"
   ]
  },
  {
   "cell_type": "code",
   "execution_count": null,
   "id": "c188167f",
   "metadata": {},
   "outputs": [],
   "source": [
    "def build_model(num_classes):\n",
    "    inputs = layers.Input(shape=(IMG_SIZE, IMG_SIZE, 3))\n",
    "    #x = img_augmentation(inputs)\n",
    "    x = inputs\n",
    "    model = MobileNetV2(include_top=False, input_tensor=x, weights=\"imagenet\")\n",
    "\n",
    "    # Freeze the pretrained weights\n",
    "    model.trainable = False\n",
    "\n",
    "    # Rebuild top\n",
    "    x = layers.Flatten()(model.output)\n",
    "#     x = layers.BatchNormalization()(x)\n",
    "\n",
    "#     top_dropout_rate = 0.2\n",
    "#     x = layers.Dropout(top_dropout_rate, name=\"top_dropout\")(x)\n",
    "    outputs = layers.Dense(NUM_CLASSES, activation=\"softmax\", name=\"pred\")(x)\n",
    "\n",
    "    # Compile\n",
    "    model = tf.keras.Model(inputs, outputs, name=\"MobileNetV2\")\n",
    "#     optimizer = tf.keras.optimizers.Adam(learning_rate=1e-2)\n",
    "    model.compile(\n",
    "        optimizer='adam', loss=\"categorical_crossentropy\", metrics=[\"accuracy\"]\n",
    "    )\n",
    "    return model"
   ]
  },
  {
   "cell_type": "code",
   "execution_count": null,
   "id": "b8cb4db4",
   "metadata": {},
   "outputs": [],
   "source": [
    "model = build_model(num_classes=NUM_CLASSES)\n"
   ]
  },
  {
   "cell_type": "code",
   "execution_count": null,
   "id": "3c976c4c",
   "metadata": {},
   "outputs": [],
   "source": [
    "def plot_hist(hist):\n",
    "    plt.plot(hist.history[\"accuracy\"])\n",
    "    #plt.plot(hist.history[\"val_accuracy\"])\n",
    "    plt.title(\"MobileNetV2 Accuracy\")\n",
    "    plt.ylabel(\"Accuracy\")\n",
    "    plt.xlabel(\"Epochs\")\n",
    "    plt.legend([\"train\", \"validation\"], loc=\"upper left\")\n",
    "    plt.grid()\n",
    "    plt.savefig('MobileNet_acc',dpi=300)\n",
    "    plt.show()"
   ]
  },
  {
   "cell_type": "code",
   "execution_count": null,
   "id": "f7dbe27e",
   "metadata": {},
   "outputs": [],
   "source": [
    "epochs = 5\n",
    "\n",
    "\n",
    "hist = model.fit(train_x, train_y, epochs=epochs, verbose=2)\n"
   ]
  },
  {
   "cell_type": "code",
   "execution_count": null,
   "id": "7356c790",
   "metadata": {},
   "outputs": [],
   "source": [
    "plot_hist(hist)"
   ]
  },
  {
   "cell_type": "code",
   "execution_count": null,
   "id": "16a7daf9",
   "metadata": {},
   "outputs": [],
   "source": [
    "preds = model.evaluate(test_x, test_y)\n",
    "print (\"Loss = \" + str(preds[0]))\n",
    "print (\"Test Accuracy = \" + str(preds[1]))"
   ]
  },
  {
   "cell_type": "code",
   "execution_count": null,
   "id": "b7b043e7",
   "metadata": {},
   "outputs": [],
   "source": [
    "import pickle"
   ]
  },
  {
   "cell_type": "code",
   "execution_count": null,
   "id": "da29a431",
   "metadata": {},
   "outputs": [],
   "source": [
    "with open('MobileNetHistory','wb') as f:\n",
    "    pickle.dump(hist.history,f)"
   ]
  },
  {
   "cell_type": "code",
   "execution_count": null,
   "id": "6569edf2",
   "metadata": {},
   "outputs": [],
   "source": [
    "df = pd.DataFrame.from_dict(hist.history)\n",
    "df.to_csv('MobileNet_history.csv')"
   ]
  },
  {
   "cell_type": "code",
   "execution_count": null,
   "id": "6624bd15",
   "metadata": {},
   "outputs": [],
   "source": [
    "model.save('MobileNet_detect.h5')"
   ]
  },
  {
   "cell_type": "code",
   "execution_count": 19,
   "id": "0c314188",
   "metadata": {},
   "outputs": [],
   "source": [
    "from sklearn.metrics import confusion_matrix"
   ]
  },
  {
   "cell_type": "code",
   "execution_count": null,
   "id": "1f73ee10",
   "metadata": {},
   "outputs": [],
   "source": [
    "y_prediction = model.predict(test_x)\n",
    "# result = confusion_matrix(test_y, y_prediction , normalize='pred')\n",
    "print(y_prediction)"
   ]
  },
  {
   "cell_type": "code",
   "execution_count": null,
   "id": "c9360d97",
   "metadata": {},
   "outputs": [],
   "source": [
    "print(result)"
   ]
  },
  {
   "cell_type": "code",
   "execution_count": 12,
   "id": "afa0cb6e",
   "metadata": {},
   "outputs": [],
   "source": [
    "from tensorflow.keras.models import load_model"
   ]
  },
  {
   "cell_type": "code",
   "execution_count": 13,
   "id": "f1d46240",
   "metadata": {},
   "outputs": [
    {
     "name": "stderr",
     "output_type": "stream",
     "text": [
      "2023-04-16 20:34:10.241985: I tensorflow/compiler/xla/stream_executor/cuda/cuda_gpu_executor.cc:996] successful NUMA node read from SysFS had negative value (-1), but there must be at least one NUMA node, so returning NUMA node zero. See more at https://github.com/torvalds/linux/blob/v6.0/Documentation/ABI/testing/sysfs-bus-pci#L344-L355\n",
      "2023-04-16 20:34:10.244273: W tensorflow/core/common_runtime/gpu/gpu_device.cc:1956] Cannot dlopen some GPU libraries. Please make sure the missing libraries mentioned above are installed properly if you would like to use GPU. Follow the guide at https://www.tensorflow.org/install/gpu for how to download and setup the required libraries for your platform.\n",
      "Skipping registering GPU devices...\n",
      "2023-04-16 20:34:11.679602: W tensorflow/tsl/framework/cpu_allocator_impl.cc:83] Allocation of 481689600 exceeds 10% of free system memory.\n",
      "2023-04-16 20:34:13.040882: W tensorflow/tsl/framework/cpu_allocator_impl.cc:83] Allocation of 19267584 exceeds 10% of free system memory.\n",
      "2023-04-16 20:34:13.040915: W tensorflow/tsl/framework/cpu_allocator_impl.cc:83] Allocation of 19267584 exceeds 10% of free system memory.\n",
      "2023-04-16 20:34:13.040937: W tensorflow/tsl/framework/cpu_allocator_impl.cc:83] Allocation of 19267584 exceeds 10% of free system memory.\n",
      "2023-04-16 20:34:13.040972: W tensorflow/tsl/framework/cpu_allocator_impl.cc:83] Allocation of 19267584 exceeds 10% of free system memory.\n"
     ]
    },
    {
     "name": "stdout",
     "output_type": "stream",
     "text": [
      "25/25 [==============================] - 10s 357ms/step\n"
     ]
    }
   ],
   "source": [
    "model = load_model('MobileNet_detect.h5')\n",
    "y_prediction = model.predict(test_x)"
   ]
  },
  {
   "cell_type": "code",
   "execution_count": null,
   "id": "941d0863",
   "metadata": {},
   "outputs": [],
   "source": [
    "print((y_prediction[0]))"
   ]
  },
  {
   "cell_type": "code",
   "execution_count": 14,
   "id": "c1dc0281",
   "metadata": {},
   "outputs": [
    {
     "data": {
      "text/plain": [
       "array([[0., 0., 0., ..., 1., 0., 0.],\n",
       "       [0., 0., 1., ..., 0., 0., 0.],\n",
       "       [1., 0., 0., ..., 0., 0., 0.],\n",
       "       ...,\n",
       "       [1., 0., 0., ..., 0., 0., 0.],\n",
       "       [0., 0., 0., ..., 0., 0., 1.],\n",
       "       [0., 0., 0., ..., 0., 0., 0.]])"
      ]
     },
     "execution_count": 14,
     "metadata": {},
     "output_type": "execute_result"
    }
   ],
   "source": [
    "test_y"
   ]
  },
  {
   "cell_type": "code",
   "execution_count": 15,
   "id": "fd4bbdb0",
   "metadata": {},
   "outputs": [
    {
     "data": {
      "text/plain": [
       "array([5, 2, 0, 0, 1, 4, 1, 1, 2, 5, 0, 0, 3, 1, 6, 0, 6, 4, 2, 4, 4, 2,\n",
       "       5, 3, 2, 3, 0, 0, 6, 4, 1, 2, 7, 2, 5, 7, 0, 1, 1, 5, 1, 7, 5, 5,\n",
       "       4, 0, 6, 4, 7, 1, 2, 1, 0, 2, 0, 2, 7, 0, 6, 0, 6, 0, 3, 7, 0, 6,\n",
       "       2, 4, 3, 1, 3, 1, 3, 5, 7, 5, 3, 4, 7, 6, 2, 2, 5, 0, 5, 2, 7, 6,\n",
       "       4, 1, 1, 0, 0, 4, 0, 3, 3, 3, 1, 2, 7, 5, 0, 4, 2, 1, 5, 0, 5, 0,\n",
       "       3, 3, 0, 7, 6, 6, 3, 6, 6, 6, 4, 1, 6, 0, 1, 4, 7, 5, 5, 3, 1, 1,\n",
       "       1, 0, 0, 2, 2, 2, 0, 1, 1, 5, 5, 4, 3, 1, 5, 7, 6, 7, 3, 0, 4, 5,\n",
       "       7, 5, 1, 5, 5, 3, 1, 2, 5, 4, 6, 1, 2, 3, 5, 6, 4, 3, 4, 1, 5, 2,\n",
       "       2, 7, 2, 3, 1, 2, 4, 4, 5, 4, 7, 0, 7, 4, 3, 6, 1, 0, 7, 7, 6, 0,\n",
       "       7, 3, 5, 5, 7, 6, 5, 3, 2, 0, 4, 6, 2, 2, 3, 2, 6, 7, 2, 6, 0, 2,\n",
       "       1, 4, 2, 6, 1, 4, 4, 4, 6, 6, 4, 7, 7, 0, 2, 5, 3, 0, 7, 4, 2, 1,\n",
       "       2, 3, 4, 1, 1, 2, 0, 6, 7, 1, 4, 0, 5, 4, 4, 1, 6, 6, 1, 1, 0, 2,\n",
       "       4, 1, 7, 0, 4, 6, 4, 0, 1, 4, 0, 5, 2, 4, 0, 3, 6, 7, 6, 4, 2, 1,\n",
       "       5, 0, 2, 6, 6, 2, 6, 1, 7, 4, 7, 3, 0, 6, 1, 0, 5, 2, 0, 4, 2, 6,\n",
       "       7, 1, 7, 7, 0, 2, 7, 4, 4, 2, 6, 1, 2, 0, 4, 0, 7, 0, 2, 5, 1, 6,\n",
       "       7, 0, 3, 1, 2, 0, 7, 0, 5, 5, 5, 0, 5, 5, 0, 1, 4, 6, 5, 1, 6, 6,\n",
       "       6, 3, 2, 4, 2, 6, 0, 7, 5, 5, 3, 5, 3, 4, 1, 4, 5, 5, 5, 7, 0, 1,\n",
       "       3, 2, 6, 3, 0, 2, 2, 3, 3, 2, 0, 4, 4, 3, 4, 0, 3, 0, 0, 7, 2, 1,\n",
       "       3, 2, 5, 2, 6, 1, 2, 1, 0, 2, 6, 3, 1, 3, 6, 7, 7, 5, 0, 6, 4, 7,\n",
       "       6, 5, 5, 7, 2, 0, 2, 1, 3, 5, 3, 4, 7, 3, 3, 1, 1, 5, 4, 5, 6, 7,\n",
       "       1, 1, 7, 2, 5, 3, 4, 0, 5, 3, 1, 4, 0, 1, 6, 5, 0, 4, 0, 4, 0, 5,\n",
       "       4, 0, 3, 7, 4, 1, 6, 2, 4, 1, 4, 3, 6, 4, 3, 3, 7, 6, 7, 0, 6, 0,\n",
       "       6, 0, 3, 5, 3, 5, 2, 7, 2, 7, 6, 4, 2, 4, 1, 6, 2, 0, 7, 4, 4, 1,\n",
       "       0, 6, 1, 1, 4, 3, 1, 2, 4, 4, 4, 5, 7, 2, 7, 4, 4, 3, 4, 0, 3, 1,\n",
       "       5, 6, 4, 2, 7, 2, 4, 3, 7, 3, 6, 6, 2, 2, 4, 3, 4, 5, 2, 7, 1, 4,\n",
       "       0, 7, 6, 4, 2, 0, 5, 2, 5, 1, 0, 0, 0, 5, 5, 6, 2, 0, 6, 6, 1, 4,\n",
       "       7, 5, 7, 0, 3, 5, 5, 7, 1, 0, 7, 4, 3, 0, 4, 6, 7, 5, 4, 0, 7, 7,\n",
       "       5, 0, 4, 7, 2, 4, 6, 6, 6, 0, 5, 7, 7, 1, 7, 0, 3, 4, 7, 5, 5, 6,\n",
       "       3, 6, 1, 0, 5, 5, 3, 4, 6, 6, 3, 6, 6, 1, 2, 0, 0, 1, 5, 6, 2, 1,\n",
       "       5, 6, 0, 5, 5, 2, 2, 6, 3, 7, 0, 7, 3, 0, 0, 5, 1, 0, 3, 1, 2, 1,\n",
       "       6, 3, 2, 5, 5, 7, 1, 2, 3, 7, 6, 2, 0, 7, 2, 6, 1, 1, 7, 4, 1, 2,\n",
       "       5, 0, 7, 5, 6, 1, 0, 3, 3, 0, 1, 6, 5, 3, 3, 7, 4, 3, 1, 3, 6, 2,\n",
       "       5, 3, 1, 6, 3, 2, 6, 4, 6, 3, 0, 7, 6, 3, 7, 0, 6, 3, 4, 4, 5, 3,\n",
       "       4, 2, 7, 0, 4, 5, 1, 4, 2, 1, 6, 5, 6, 7, 2, 4, 6, 4, 7, 6, 0, 0,\n",
       "       1, 3, 7, 0, 0, 5, 5, 2, 6, 2, 1, 5, 2, 2, 1, 0, 0, 0, 4, 0, 1, 0,\n",
       "       4, 4, 7, 5, 2, 6, 6, 3, 5, 7, 3, 2, 2, 2, 7, 4, 1, 1, 6, 2, 4, 7,\n",
       "       5, 3, 5, 3, 0, 0, 7, 4])"
      ]
     },
     "execution_count": 15,
     "metadata": {},
     "output_type": "execute_result"
    }
   ],
   "source": [
    "test_y = np.argmax(test_y, axis=1)\n",
    "test_y"
   ]
  },
  {
   "cell_type": "code",
   "execution_count": 16,
   "id": "5ca8fdb6",
   "metadata": {},
   "outputs": [
    {
     "data": {
      "text/plain": [
       "array([[1.0977897e-32, 0.0000000e+00, 0.0000000e+00, ..., 9.9999994e-01,\n",
       "        0.0000000e+00, 8.7417845e-21],\n",
       "       [0.0000000e+00, 0.0000000e+00, 9.9999994e-01, ..., 0.0000000e+00,\n",
       "        0.0000000e+00, 0.0000000e+00],\n",
       "       [9.9999768e-01, 4.9051574e-31, 0.0000000e+00, ..., 2.2150418e-06,\n",
       "        4.2094181e-33, 4.8344012e-23],\n",
       "       ...,\n",
       "       [9.9999994e-01, 3.1002456e-22, 0.0000000e+00, ..., 1.2455446e-32,\n",
       "        2.5359490e-24, 1.2214559e-28],\n",
       "       [4.4741934e-14, 4.8062408e-24, 0.0000000e+00, ..., 1.3647924e-20,\n",
       "        7.6905509e-17, 7.3083198e-01],\n",
       "       [8.7115792e-31, 1.1614736e-28, 0.0000000e+00, ..., 5.0030274e-36,\n",
       "        0.0000000e+00, 2.0756505e-29]], dtype=float32)"
      ]
     },
     "execution_count": 16,
     "metadata": {},
     "output_type": "execute_result"
    }
   ],
   "source": [
    "y_prediction"
   ]
  },
  {
   "cell_type": "code",
   "execution_count": 17,
   "id": "0f29cfe8",
   "metadata": {},
   "outputs": [
    {
     "data": {
      "text/plain": [
       "array([5, 2, 0, 0, 1, 4, 1, 1, 2, 5, 0, 0, 3, 1, 6, 0, 6, 4, 2, 4, 4, 2,\n",
       "       5, 3, 2, 3, 0, 4, 6, 4, 1, 2, 7, 2, 5, 5, 0, 1, 1, 4, 1, 7, 5, 5,\n",
       "       4, 0, 6, 4, 7, 1, 2, 1, 0, 2, 0, 2, 7, 0, 6, 0, 6, 0, 3, 7, 0, 6,\n",
       "       2, 4, 3, 1, 3, 1, 3, 5, 7, 5, 3, 4, 7, 6, 2, 2, 5, 0, 5, 2, 7, 6,\n",
       "       4, 1, 1, 0, 0, 4, 0, 3, 3, 3, 1, 2, 7, 5, 0, 4, 2, 1, 5, 0, 5, 0,\n",
       "       3, 3, 0, 7, 7, 6, 3, 6, 6, 6, 4, 1, 6, 0, 1, 4, 7, 5, 5, 3, 1, 1,\n",
       "       1, 0, 0, 2, 2, 2, 0, 1, 1, 5, 5, 4, 3, 1, 5, 7, 6, 7, 3, 0, 3, 5,\n",
       "       7, 5, 1, 5, 5, 3, 1, 2, 5, 4, 6, 1, 2, 3, 5, 6, 4, 3, 4, 1, 5, 2,\n",
       "       2, 7, 2, 3, 1, 2, 4, 4, 5, 4, 7, 0, 7, 4, 3, 7, 1, 0, 7, 7, 6, 0,\n",
       "       7, 3, 5, 5, 7, 6, 5, 3, 2, 0, 4, 6, 2, 2, 3, 2, 6, 7, 2, 6, 0, 2,\n",
       "       1, 4, 2, 6, 1, 4, 4, 4, 6, 7, 4, 7, 7, 0, 2, 5, 3, 0, 7, 4, 2, 1,\n",
       "       2, 3, 4, 1, 1, 2, 0, 6, 7, 1, 4, 0, 5, 4, 4, 1, 6, 6, 1, 1, 0, 2,\n",
       "       4, 1, 7, 0, 4, 7, 4, 0, 1, 4, 0, 5, 2, 3, 0, 3, 6, 7, 6, 4, 2, 1,\n",
       "       3, 0, 2, 6, 3, 2, 6, 1, 7, 4, 7, 3, 0, 6, 1, 0, 5, 2, 0, 4, 2, 6,\n",
       "       7, 1, 7, 7, 0, 2, 7, 4, 4, 2, 6, 1, 2, 0, 4, 0, 7, 0, 2, 5, 1, 6,\n",
       "       7, 0, 3, 1, 2, 0, 7, 0, 5, 5, 5, 0, 5, 5, 0, 1, 4, 6, 5, 1, 6, 6,\n",
       "       6, 3, 2, 4, 2, 6, 0, 7, 5, 5, 3, 5, 3, 4, 1, 4, 5, 5, 5, 7, 0, 1,\n",
       "       3, 2, 6, 3, 0, 2, 2, 3, 3, 2, 0, 4, 4, 3, 4, 0, 3, 0, 0, 7, 2, 1,\n",
       "       3, 2, 5, 2, 6, 1, 2, 1, 0, 2, 6, 3, 1, 3, 6, 7, 4, 5, 0, 6, 4, 7,\n",
       "       6, 5, 5, 7, 2, 0, 2, 1, 3, 5, 3, 4, 7, 3, 3, 1, 1, 5, 4, 5, 6, 7,\n",
       "       1, 1, 7, 2, 5, 3, 4, 0, 5, 3, 1, 4, 0, 1, 6, 5, 0, 4, 0, 4, 0, 5,\n",
       "       4, 0, 3, 7, 4, 1, 6, 2, 4, 1, 4, 3, 6, 7, 3, 3, 7, 6, 7, 0, 6, 0,\n",
       "       6, 0, 3, 5, 3, 5, 2, 7, 2, 7, 6, 4, 2, 4, 1, 6, 2, 3, 7, 4, 4, 1,\n",
       "       0, 6, 1, 1, 4, 3, 1, 2, 4, 4, 4, 5, 4, 2, 7, 4, 4, 3, 4, 0, 3, 1,\n",
       "       5, 6, 4, 2, 7, 2, 4, 3, 7, 3, 6, 6, 2, 2, 4, 3, 4, 5, 2, 4, 1, 4,\n",
       "       0, 7, 6, 4, 2, 0, 5, 2, 5, 1, 0, 4, 0, 5, 5, 6, 2, 0, 6, 6, 1, 4,\n",
       "       7, 5, 7, 0, 3, 5, 5, 7, 1, 0, 7, 4, 3, 0, 4, 6, 7, 5, 4, 0, 7, 7,\n",
       "       5, 0, 4, 7, 2, 4, 6, 6, 6, 0, 5, 7, 7, 1, 7, 0, 3, 4, 7, 5, 5, 6,\n",
       "       3, 6, 1, 0, 5, 5, 3, 4, 6, 6, 3, 6, 6, 1, 2, 0, 0, 1, 5, 6, 2, 1,\n",
       "       5, 6, 0, 5, 5, 2, 2, 6, 3, 7, 0, 7, 5, 0, 0, 5, 1, 0, 3, 1, 2, 1,\n",
       "       6, 3, 2, 5, 5, 7, 1, 2, 3, 7, 6, 2, 0, 7, 2, 6, 1, 1, 7, 4, 1, 2,\n",
       "       5, 0, 7, 5, 6, 1, 0, 3, 3, 0, 1, 6, 5, 3, 3, 7, 4, 3, 1, 3, 6, 2,\n",
       "       5, 3, 1, 6, 3, 2, 6, 4, 6, 3, 0, 7, 6, 3, 7, 0, 6, 3, 4, 4, 5, 3,\n",
       "       4, 2, 7, 0, 4, 5, 1, 4, 2, 1, 6, 5, 7, 7, 2, 4, 6, 4, 7, 6, 0, 0,\n",
       "       1, 3, 7, 0, 0, 5, 5, 2, 6, 2, 1, 5, 2, 2, 1, 0, 0, 0, 4, 0, 1, 0,\n",
       "       4, 4, 7, 5, 2, 6, 6, 3, 5, 7, 3, 2, 2, 2, 7, 4, 1, 1, 6, 2, 4, 7,\n",
       "       5, 3, 5, 3, 0, 0, 7, 4])"
      ]
     },
     "execution_count": 17,
     "metadata": {},
     "output_type": "execute_result"
    }
   ],
   "source": [
    "y_pred = np.argmax(y_prediction, axis=1)\n",
    "y_pred"
   ]
  },
  {
   "cell_type": "code",
   "execution_count": 20,
   "id": "a1362b5b",
   "metadata": {},
   "outputs": [],
   "source": [
    "result = confusion_matrix(test_y, y_pred)"
   ]
  },
  {
   "cell_type": "code",
   "execution_count": 21,
   "id": "e4bd8366",
   "metadata": {},
   "outputs": [
    {
     "data": {
      "text/plain": [
       "array([[113,   0,   0,   1,   2,   0,   0,   0],\n",
       "       [  0,  99,   0,   0,   0,   0,   0,   0],\n",
       "       [  0,   0, 102,   0,   0,   0,   0,   0],\n",
       "       [  0,   0,   0,  87,   0,   1,   0,   0],\n",
       "       [  0,   0,   0,   2, 102,   0,   0,   1],\n",
       "       [  0,   0,   0,   1,   1,  97,   0,   0],\n",
       "       [  0,   0,   0,   1,   0,   0,  94,   5],\n",
       "       [  0,   0,   0,   0,   3,   1,   0,  87]])"
      ]
     },
     "execution_count": 21,
     "metadata": {},
     "output_type": "execute_result"
    }
   ],
   "source": [
    "result"
   ]
  },
  {
   "cell_type": "code",
   "execution_count": null,
   "id": "3a721730",
   "metadata": {},
   "outputs": [],
   "source": []
  }
 ],
 "metadata": {
  "kernelspec": {
   "display_name": "Python 3 (ipykernel)",
   "language": "python",
   "name": "python3"
  },
  "language_info": {
   "codemirror_mode": {
    "name": "ipython",
    "version": 3
   },
   "file_extension": ".py",
   "mimetype": "text/x-python",
   "name": "python",
   "nbconvert_exporter": "python",
   "pygments_lexer": "ipython3",
   "version": "3.10.6 (main, Aug 10 2022, 11:19:32) [GCC 12.1.0]"
  },
  "vscode": {
   "interpreter": {
    "hash": "97cc609b13305c559618ec78a438abc56230b9381f827f22d070313b9a1f3777"
   }
  }
 },
 "nbformat": 4,
 "nbformat_minor": 5
}
