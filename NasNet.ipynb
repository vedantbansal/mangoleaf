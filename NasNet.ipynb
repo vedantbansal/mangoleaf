{
 "cells": [
  {
   "cell_type": "code",
   "execution_count": 1,
   "id": "2bb3170f",
   "metadata": {},
   "outputs": [
    {
     "name": "stderr",
     "output_type": "stream",
     "text": [
      "2023-04-16 21:36:18.883979: I tensorflow/tsl/cuda/cudart_stub.cc:28] Could not find cuda drivers on your machine, GPU will not be used.\n",
      "2023-04-16 21:36:19.057746: I tensorflow/tsl/cuda/cudart_stub.cc:28] Could not find cuda drivers on your machine, GPU will not be used.\n",
      "2023-04-16 21:36:19.058501: I tensorflow/core/platform/cpu_feature_guard.cc:182] This TensorFlow binary is optimized to use available CPU instructions in performance-critical operations.\n",
      "To enable the following instructions: AVX2 FMA, in other operations, rebuild TensorFlow with the appropriate compiler flags.\n",
      "2023-04-16 21:36:20.016108: W tensorflow/compiler/tf2tensorrt/utils/py_utils.cc:38] TF-TRT Warning: Could not find TensorRT\n"
     ]
    }
   ],
   "source": [
    "import numpy as np\n",
    "import tensorflow as tf\n",
    "import pandas as pd\n",
    "import matplotlib.pyplot as plt\n",
    "import os\n",
    "import cv2"
   ]
  },
  {
   "cell_type": "code",
   "execution_count": 2,
   "id": "723ebfe1",
   "metadata": {},
   "outputs": [
    {
     "name": "stdout",
     "output_type": "stream",
     "text": [
      "['Sooty Mould', 'Powdery Mildew', 'Gall Midge', 'Cutting Weevil', 'Die Back', 'Bacterial Canker', 'Anthracnose', 'Healthy']\n"
     ]
    }
   ],
   "source": [
    "dataset_path = os.listdir('MangoLeafBD')\n",
    "print(dataset_path)"
   ]
  },
  {
   "cell_type": "code",
   "execution_count": 3,
   "id": "644e6ad5",
   "metadata": {},
   "outputs": [],
   "source": [
    "class_labels = []\n",
    "\n",
    "for item in dataset_path:\n",
    " # Get all the file names\n",
    "    all_classes = os.listdir('MangoLeafBD' + '/' +item)\n",
    " #print(all_classes)\n",
    "\n",
    " # Add them to the list\n",
    "    for room in all_classes:\n",
    "        class_labels.append((item, str('dataset_path' + '/' +item) + '/' + room))"
   ]
  },
  {
   "cell_type": "code",
   "execution_count": 4,
   "id": "d887397a",
   "metadata": {},
   "outputs": [
    {
     "name": "stdout",
     "output_type": "stream",
     "text": [
      "        Labels                                              image\n",
      "0  Sooty Mould  dataset_path/Sooty Mould/IMG_20211108_121559 (...\n",
      "1  Sooty Mould  dataset_path/Sooty Mould/IMG_20211211_154825 (...\n",
      "2  Sooty Mould  dataset_path/Sooty Mould/IMG_20211211_154608 (...\n",
      "3  Sooty Mould  dataset_path/Sooty Mould/IMG_20211211_154225 (...\n",
      "4  Sooty Mould  dataset_path/Sooty Mould/IMG_20211211_154252 (...\n"
     ]
    }
   ],
   "source": [
    "df = pd.DataFrame(data=class_labels, columns=['Labels', 'image'])\n",
    "print(df.head())"
   ]
  },
  {
   "cell_type": "code",
   "execution_count": 5,
   "id": "1036ff0b",
   "metadata": {},
   "outputs": [
    {
     "name": "stdout",
     "output_type": "stream",
     "text": [
      "       Labels                                              image\n",
      "3995  Healthy  dataset_path/Healthy/20211231_155753 (Custom).jpg\n",
      "3996  Healthy  dataset_path/Healthy/20211231_125054 (Custom).jpg\n",
      "3997  Healthy  dataset_path/Healthy/20211231_161108 (Custom).jpg\n",
      "3998  Healthy  dataset_path/Healthy/20211231_124957 (Custom).jpg\n",
      "3999  Healthy  dataset_path/Healthy/20211231_160229 (Custom).jpg\n"
     ]
    }
   ],
   "source": [
    "print(df.tail())"
   ]
  },
  {
   "cell_type": "code",
   "execution_count": 6,
   "id": "d164d415",
   "metadata": {},
   "outputs": [
    {
     "name": "stdout",
     "output_type": "stream",
     "text": [
      "Sooty Mould         500\n",
      "Powdery Mildew      500\n",
      "Gall Midge          500\n",
      "Cutting Weevil      500\n",
      "Die Back            500\n",
      "Bacterial Canker    500\n",
      "Anthracnose         500\n",
      "Healthy             500\n",
      "Name: Labels, dtype: int64\n"
     ]
    }
   ],
   "source": [
    "print(df['Labels'].value_counts())"
   ]
  },
  {
   "cell_type": "code",
   "execution_count": 7,
   "id": "c26f2fd1",
   "metadata": {},
   "outputs": [],
   "source": [
    "path = 'MangoLeafBD/'\n",
    "\n",
    "im_size = 224\n",
    "\n",
    "images = []\n",
    "labels = []\n",
    "\n",
    "for i in dataset_path:\n",
    "    data_path = path + str(i)\n",
    "    filenames = [i for i in os.listdir(data_path)]\n",
    "    \n",
    "    for f in filenames:\n",
    "        img = cv2.imread(data_path + '/' + f)\n",
    "        img = cv2.resize(img, (im_size, im_size))\n",
    "        images.append(img)\n",
    "        labels.append(i)"
   ]
  },
  {
   "cell_type": "code",
   "execution_count": 8,
   "id": "42eb4d9c",
   "metadata": {},
   "outputs": [
    {
     "data": {
      "text/plain": [
       "(4000, 224, 224, 3)"
      ]
     },
     "execution_count": 8,
     "metadata": {},
     "output_type": "execute_result"
    }
   ],
   "source": [
    "images = np.array(images)\n",
    "images = images.astype('float32') / 255.0\n",
    "images.shape"
   ]
  },
  {
   "cell_type": "code",
   "execution_count": 9,
   "id": "bdb300d7",
   "metadata": {},
   "outputs": [
    {
     "name": "stdout",
     "output_type": "stream",
     "text": [
      "['Sooty Mould' 'Sooty Mould' 'Sooty Mould' ... 'Healthy' 'Healthy'\n",
      " 'Healthy']\n",
      "[7 7 7 ... 5 5 5]\n"
     ]
    }
   ],
   "source": [
    "from sklearn.preprocessing import LabelEncoder , OneHotEncoder\n",
    "y=df['Labels'].values\n",
    "print(y)\n",
    "\n",
    "y_labelencoder = LabelEncoder ()\n",
    "y = y_labelencoder.fit_transform (y)\n",
    "print (y)"
   ]
  },
  {
   "cell_type": "code",
   "execution_count": 10,
   "id": "1301f0a9",
   "metadata": {},
   "outputs": [],
   "source": [
    "y=y.reshape(-1,1)\n",
    "\n",
    "from sklearn.compose import ColumnTransformer\n",
    "ct = ColumnTransformer([('my_ohe', OneHotEncoder(), [0])], remainder='passthrough')\n",
    "Y = ct.fit_transform(y).toarray()\n"
   ]
  },
  {
   "cell_type": "code",
   "execution_count": 11,
   "id": "fc44ef15",
   "metadata": {},
   "outputs": [
    {
     "name": "stdout",
     "output_type": "stream",
     "text": [
      "(3200, 224, 224, 3)\n",
      "(3200, 8)\n",
      "(800, 224, 224, 3)\n",
      "(800, 8)\n"
     ]
    }
   ],
   "source": [
    "from sklearn.utils import shuffle\n",
    "from sklearn.model_selection import train_test_split\n",
    "\n",
    "\n",
    "images, Y = shuffle(images, Y, random_state=1)\n",
    "\n",
    "\n",
    "train_x, test_x, train_y, test_y = train_test_split(images, Y, test_size=0.2, random_state=415)\n",
    "\n",
    "#inpect the shape of the training and testing.\n",
    "print(train_x.shape)\n",
    "print(train_y.shape)\n",
    "print(test_x.shape)\n",
    "print(test_y.shape)"
   ]
  },
  {
   "cell_type": "code",
   "execution_count": 12,
   "id": "c3bd5745",
   "metadata": {},
   "outputs": [],
   "source": [
    "from matplotlib.pyplot import imread\n",
    "from matplotlib.pyplot import imshow\n",
    "from tensorflow.keras.preprocessing import image\n",
    "from tensorflow.keras.applications.imagenet_utils import decode_predictions\n",
    "from tensorflow.keras.applications.imagenet_utils import preprocess_input\n",
    "from tensorflow.keras import layers\n",
    "from tensorflow.keras.applications import NASNetMobile"
   ]
  },
  {
   "cell_type": "code",
   "execution_count": 13,
   "id": "1d55c6da",
   "metadata": {},
   "outputs": [],
   "source": [
    "NUM_CLASSES = 8\n",
    "IMG_SIZE = 224"
   ]
  },
  {
   "cell_type": "code",
   "execution_count": 14,
   "id": "c188167f",
   "metadata": {},
   "outputs": [],
   "source": [
    "def build_model(num_classes):\n",
    "    inputs = layers.Input(shape=(IMG_SIZE, IMG_SIZE, 3))\n",
    "    #x = img_augmentation(inputs)\n",
    "    x = inputs\n",
    "    model = NASNetMobile(include_top=False, input_tensor=x, weights=\"imagenet\")\n",
    "\n",
    "    # Freeze the pretrained weights\n",
    "    model.trainable = False\n",
    "\n",
    "    # Rebuild top\n",
    "    x = layers.Flatten()(model.output)\n",
    "#     x = layers.BatchNormalization()(x)\n",
    "\n",
    "#     top_dropout_rate = 0.2\n",
    "#     x = layers.Dropout(top_dropout_rate, name=\"top_dropout\")(x)\n",
    "    outputs = layers.Dense(NUM_CLASSES, activation=\"softmax\", name=\"pred\")(x)\n",
    "\n",
    "    # Compile\n",
    "    model = tf.keras.Model(inputs, outputs, name=\"NASNetMobile\")\n",
    "#     optimizer = tf.keras.optimizers.Adam(learning_rate=1e-2)\n",
    "    model.compile(\n",
    "        optimizer='adam', loss=\"categorical_crossentropy\", metrics=[\"accuracy\"]\n",
    "    )\n",
    "    return model"
   ]
  },
  {
   "cell_type": "code",
   "execution_count": 15,
   "id": "b8cb4db4",
   "metadata": {},
   "outputs": [
    {
     "name": "stderr",
     "output_type": "stream",
     "text": [
      "2023-04-16 21:36:29.914606: I tensorflow/compiler/xla/stream_executor/cuda/cuda_gpu_executor.cc:996] successful NUMA node read from SysFS had negative value (-1), but there must be at least one NUMA node, so returning NUMA node zero. See more at https://github.com/torvalds/linux/blob/v6.0/Documentation/ABI/testing/sysfs-bus-pci#L344-L355\n",
      "2023-04-16 21:36:29.915552: W tensorflow/core/common_runtime/gpu/gpu_device.cc:1956] Cannot dlopen some GPU libraries. Please make sure the missing libraries mentioned above are installed properly if you would like to use GPU. Follow the guide at https://www.tensorflow.org/install/gpu for how to download and setup the required libraries for your platform.\n",
      "Skipping registering GPU devices...\n"
     ]
    }
   ],
   "source": [
    "model = build_model(num_classes=NUM_CLASSES)\n"
   ]
  },
  {
   "cell_type": "code",
   "execution_count": 16,
   "id": "3c976c4c",
   "metadata": {},
   "outputs": [],
   "source": [
    "def plot_hist(hist):\n",
    "    plt.plot(hist.history[\"accuracy\"])\n",
    "    #plt.plot(hist.history[\"val_accuracy\"])\n",
    "    plt.title(\"NASNetMobile Accuracy\")\n",
    "    plt.ylabel(\"Accuracy\")\n",
    "    plt.xlabel(\"Epochs\")\n",
    "    plt.legend([\"train\", \"validation\"], loc=\"upper left\")\n",
    "    plt.grid()\n",
    "    plt.savefig('NASNetMobile_acc',dpi=300)\n",
    "    plt.show()"
   ]
  },
  {
   "cell_type": "code",
   "execution_count": 17,
   "id": "f7dbe27e",
   "metadata": {},
   "outputs": [
    {
     "name": "stderr",
     "output_type": "stream",
     "text": [
      "2023-04-16 21:36:34.126036: W tensorflow/tsl/framework/cpu_allocator_impl.cc:83] Allocation of 1926758400 exceeds 10% of free system memory.\n"
     ]
    },
    {
     "name": "stdout",
     "output_type": "stream",
     "text": [
      "Epoch 1/5\n",
      "100/100 - 64s - loss: 1.1828 - accuracy: 0.8497 - 64s/epoch - 644ms/step\n",
      "Epoch 2/5\n",
      "100/100 - 53s - loss: 0.1191 - accuracy: 0.9775 - 53s/epoch - 531ms/step\n",
      "Epoch 3/5\n",
      "100/100 - 54s - loss: 0.0811 - accuracy: 0.9825 - 54s/epoch - 538ms/step\n",
      "Epoch 4/5\n",
      "100/100 - 54s - loss: 0.0536 - accuracy: 0.9862 - 54s/epoch - 538ms/step\n",
      "Epoch 5/5\n",
      "100/100 - 55s - loss: 0.0763 - accuracy: 0.9837 - 55s/epoch - 549ms/step\n"
     ]
    }
   ],
   "source": [
    "epochs = 5\n",
    "\n",
    "\n",
    "hist = model.fit(train_x, train_y, epochs=epochs, verbose=2)\n",
    "    "
   ]
  },
  {
   "cell_type": "code",
   "execution_count": 18,
   "id": "845b7d21",
   "metadata": {},
   "outputs": [
    {
     "data": {
      "image/png": "[encoded data removed]",
      "text/plain": [
       "<Figure size 640x480 with 1 Axes>"
      ]
     },
     "metadata": {},
     "output_type": "display_data"
    }
   ],
   "source": [
    "plot_hist(hist)"
   ]
  },
  {
   "cell_type": "code",
   "execution_count": 19,
   "id": "16a7daf9",
   "metadata": {},
   "outputs": [
    {
     "name": "stderr",
     "output_type": "stream",
     "text": [
      "2023-04-16 21:41:18.130881: W tensorflow/tsl/framework/cpu_allocator_impl.cc:83] Allocation of 481689600 exceeds 10% of free system memory.\n"
     ]
    },
    {
     "name": "stdout",
     "output_type": "stream",
     "text": [
      "25/25 [==============================] - 19s 611ms/step - loss: 0.2729 - accuracy: 0.9613\n",
      "Loss = 0.2728748321533203\n",
      "Test Accuracy = 0.9612500071525574\n"
     ]
    }
   ],
   "source": [
    "preds = model.evaluate(test_x, test_y)\n",
    "print (\"Loss = \" + str(preds[0]))\n",
    "print (\"Test Accuracy = \" + str(preds[1]))"
   ]
  },
  {
   "cell_type": "code",
   "execution_count": 20,
   "id": "b7b043e7",
   "metadata": {},
   "outputs": [],
   "source": [
    "import pickle"
   ]
  },
  {
   "cell_type": "code",
   "execution_count": 21,
   "id": "f25d6722",
   "metadata": {},
   "outputs": [],
   "source": [
    "with open('NASNetMobileHistory','wb') as f:\n",
    "    pickle.dump(hist.history,f)"
   ]
  },
  {
   "cell_type": "code",
   "execution_count": 22,
   "id": "8f6a1261",
   "metadata": {},
   "outputs": [],
   "source": [
    "df = pd.DataFrame.from_dict(hist.history)\n",
    "df.to_csv('NASNetMobile_history.csv')"
   ]
  },
  {
   "cell_type": "code",
   "execution_count": 23,
   "id": "3d778239",
   "metadata": {},
   "outputs": [],
   "source": [
    "model.save('NASNetMobile_detect.h5')"
   ]
  },
  {
   "cell_type": "code",
   "execution_count": 24,
   "id": "628e75e1",
   "metadata": {},
   "outputs": [],
   "source": [
    "from sklearn.metrics import confusion_matrix"
   ]
  },
  {
   "cell_type": "code",
   "execution_count": 25,
   "id": "d47c58e2",
   "metadata": {},
   "outputs": [
    {
     "data": {
      "text/plain": [
       "array([[0., 0., 0., ..., 1., 0., 0.],\n",
       "       [0., 0., 1., ..., 0., 0., 0.],\n",
       "       [1., 0., 0., ..., 0., 0., 0.],\n",
       "       ...,\n",
       "       [1., 0., 0., ..., 0., 0., 0.],\n",
       "       [0., 0., 0., ..., 0., 0., 1.],\n",
       "       [0., 0., 0., ..., 0., 0., 0.]])"
      ]
     },
     "execution_count": 25,
     "metadata": {},
     "output_type": "execute_result"
    }
   ],
   "source": [
    "test_y"
   ]
  },
  {
   "cell_type": "code",
   "execution_count": 26,
   "id": "070604d1",
   "metadata": {},
   "outputs": [
    {
     "data": {
      "text/plain": [
       "array([5, 2, 0, 0, 1, 4, 1, 1, 2, 5, 0, 0, 3, 1, 6, 0, 6, 4, 2, 4, 4, 2,\n",
       "       5, 3, 2, 3, 0, 0, 6, 4, 1, 2, 7, 2, 5, 7, 0, 1, 1, 5, 1, 7, 5, 5,\n",
       "       4, 0, 6, 4, 7, 1, 2, 1, 0, 2, 0, 2, 7, 0, 6, 0, 6, 0, 3, 7, 0, 6,\n",
       "       2, 4, 3, 1, 3, 1, 3, 5, 7, 5, 3, 4, 7, 6, 2, 2, 5, 0, 5, 2, 7, 6,\n",
       "       4, 1, 1, 0, 0, 4, 0, 3, 3, 3, 1, 2, 7, 5, 0, 4, 2, 1, 5, 0, 5, 0,\n",
       "       3, 3, 0, 7, 6, 6, 3, 6, 6, 6, 4, 1, 6, 0, 1, 4, 7, 5, 5, 3, 1, 1,\n",
       "       1, 0, 0, 2, 2, 2, 0, 1, 1, 5, 5, 4, 3, 1, 5, 7, 6, 7, 3, 0, 4, 5,\n",
       "       7, 5, 1, 5, 5, 3, 1, 2, 5, 4, 6, 1, 2, 3, 5, 6, 4, 3, 4, 1, 5, 2,\n",
       "       2, 7, 2, 3, 1, 2, 4, 4, 5, 4, 7, 0, 7, 4, 3, 6, 1, 0, 7, 7, 6, 0,\n",
       "       7, 3, 5, 5, 7, 6, 5, 3, 2, 0, 4, 6, 2, 2, 3, 2, 6, 7, 2, 6, 0, 2,\n",
       "       1, 4, 2, 6, 1, 4, 4, 4, 6, 6, 4, 7, 7, 0, 2, 5, 3, 0, 7, 4, 2, 1,\n",
       "       2, 3, 4, 1, 1, 2, 0, 6, 7, 1, 4, 0, 5, 4, 4, 1, 6, 6, 1, 1, 0, 2,\n",
       "       4, 1, 7, 0, 4, 6, 4, 0, 1, 4, 0, 5, 2, 4, 0, 3, 6, 7, 6, 4, 2, 1,\n",
       "       5, 0, 2, 6, 6, 2, 6, 1, 7, 4, 7, 3, 0, 6, 1, 0, 5, 2, 0, 4, 2, 6,\n",
       "       7, 1, 7, 7, 0, 2, 7, 4, 4, 2, 6, 1, 2, 0, 4, 0, 7, 0, 2, 5, 1, 6,\n",
       "       7, 0, 3, 1, 2, 0, 7, 0, 5, 5, 5, 0, 5, 5, 0, 1, 4, 6, 5, 1, 6, 6,\n",
       "       6, 3, 2, 4, 2, 6, 0, 7, 5, 5, 3, 5, 3, 4, 1, 4, 5, 5, 5, 7, 0, 1,\n",
       "       3, 2, 6, 3, 0, 2, 2, 3, 3, 2, 0, 4, 4, 3, 4, 0, 3, 0, 0, 7, 2, 1,\n",
       "       3, 2, 5, 2, 6, 1, 2, 1, 0, 2, 6, 3, 1, 3, 6, 7, 7, 5, 0, 6, 4, 7,\n",
       "       6, 5, 5, 7, 2, 0, 2, 1, 3, 5, 3, 4, 7, 3, 3, 1, 1, 5, 4, 5, 6, 7,\n",
       "       1, 1, 7, 2, 5, 3, 4, 0, 5, 3, 1, 4, 0, 1, 6, 5, 0, 4, 0, 4, 0, 5,\n",
       "       4, 0, 3, 7, 4, 1, 6, 2, 4, 1, 4, 3, 6, 4, 3, 3, 7, 6, 7, 0, 6, 0,\n",
       "       6, 0, 3, 5, 3, 5, 2, 7, 2, 7, 6, 4, 2, 4, 1, 6, 2, 0, 7, 4, 4, 1,\n",
       "       0, 6, 1, 1, 4, 3, 1, 2, 4, 4, 4, 5, 7, 2, 7, 4, 4, 3, 4, 0, 3, 1,\n",
       "       5, 6, 4, 2, 7, 2, 4, 3, 7, 3, 6, 6, 2, 2, 4, 3, 4, 5, 2, 7, 1, 4,\n",
       "       0, 7, 6, 4, 2, 0, 5, 2, 5, 1, 0, 0, 0, 5, 5, 6, 2, 0, 6, 6, 1, 4,\n",
       "       7, 5, 7, 0, 3, 5, 5, 7, 1, 0, 7, 4, 3, 0, 4, 6, 7, 5, 4, 0, 7, 7,\n",
       "       5, 0, 4, 7, 2, 4, 6, 6, 6, 0, 5, 7, 7, 1, 7, 0, 3, 4, 7, 5, 5, 6,\n",
       "       3, 6, 1, 0, 5, 5, 3, 4, 6, 6, 3, 6, 6, 1, 2, 0, 0, 1, 5, 6, 2, 1,\n",
       "       5, 6, 0, 5, 5, 2, 2, 6, 3, 7, 0, 7, 3, 0, 0, 5, 1, 0, 3, 1, 2, 1,\n",
       "       6, 3, 2, 5, 5, 7, 1, 2, 3, 7, 6, 2, 0, 7, 2, 6, 1, 1, 7, 4, 1, 2,\n",
       "       5, 0, 7, 5, 6, 1, 0, 3, 3, 0, 1, 6, 5, 3, 3, 7, 4, 3, 1, 3, 6, 2,\n",
       "       5, 3, 1, 6, 3, 2, 6, 4, 6, 3, 0, 7, 6, 3, 7, 0, 6, 3, 4, 4, 5, 3,\n",
       "       4, 2, 7, 0, 4, 5, 1, 4, 2, 1, 6, 5, 6, 7, 2, 4, 6, 4, 7, 6, 0, 0,\n",
       "       1, 3, 7, 0, 0, 5, 5, 2, 6, 2, 1, 5, 2, 2, 1, 0, 0, 0, 4, 0, 1, 0,\n",
       "       4, 4, 7, 5, 2, 6, 6, 3, 5, 7, 3, 2, 2, 2, 7, 4, 1, 1, 6, 2, 4, 7,\n",
       "       5, 3, 5, 3, 0, 0, 7, 4])"
      ]
     },
     "execution_count": 26,
     "metadata": {},
     "output_type": "execute_result"
    }
   ],
   "source": [
    "test_y = np.argmax(test_y, axis=1)\n",
    "test_y"
   ]
  },
  {
   "cell_type": "code",
   "execution_count": 28,
   "id": "c9dbadbe",
   "metadata": {},
   "outputs": [
    {
     "name": "stderr",
     "output_type": "stream",
     "text": [
      "2023-04-16 21:45:52.987920: W tensorflow/tsl/framework/cpu_allocator_impl.cc:83] Allocation of 481689600 exceeds 10% of free system memory.\n"
     ]
    },
    {
     "name": "stdout",
     "output_type": "stream",
     "text": [
      "25/25 [==============================] - 17s 569ms/step\n"
     ]
    },
    {
     "data": {
      "text/plain": [
       "array([[7.1081433e-18, 2.2867703e-23, 3.4910742e-38, ..., 9.9999994e-01,\n",
       "        2.8287264e-35, 2.0244058e-23],\n",
       "       [3.4707227e-28, 1.2766357e-15, 9.9999994e-01, ..., 4.5606733e-32,\n",
       "        0.0000000e+00, 1.1751269e-24],\n",
       "       [9.9999994e-01, 3.6819925e-10, 3.2225338e-26, ..., 1.5988979e-11,\n",
       "        2.7287063e-27, 3.4608704e-22],\n",
       "       ...,\n",
       "       [9.9999970e-01, 1.1789811e-13, 2.0880367e-31, ..., 6.8832511e-17,\n",
       "        9.1488854e-19, 1.5206061e-15],\n",
       "       [2.4911473e-03, 1.8241201e-08, 5.2729756e-26, ..., 1.9150574e-04,\n",
       "        4.1349222e-06, 1.9194252e-08],\n",
       "       [2.8146159e-12, 9.5352858e-11, 1.1492154e-31, ..., 1.1281117e-21,\n",
       "        1.0595111e-23, 1.6207430e-20]], dtype=float32)"
      ]
     },
     "execution_count": 28,
     "metadata": {},
     "output_type": "execute_result"
    }
   ],
   "source": [
    "pred_y = model.predict(test_x)\n",
    "pred_y"
   ]
  },
  {
   "cell_type": "code",
   "execution_count": 31,
   "id": "f862a66d",
   "metadata": {},
   "outputs": [
    {
     "data": {
      "text/plain": [
       "array([5, 2, 0, 0, 1, 4, 1, 1, 2, 5, 0, 0, 3, 1, 6, 0, 6, 4, 2, 4, 4, 2,\n",
       "       5, 3, 2, 3, 0, 0, 7, 4, 1, 2, 7, 2, 5, 7, 4, 1, 1, 5, 4, 7, 0, 5,\n",
       "       4, 0, 6, 4, 7, 1, 2, 1, 0, 2, 0, 2, 7, 0, 6, 0, 6, 0, 3, 7, 0, 6,\n",
       "       2, 1, 3, 1, 3, 1, 3, 5, 7, 5, 3, 4, 7, 6, 2, 2, 5, 0, 5, 2, 7, 6,\n",
       "       4, 1, 1, 0, 0, 4, 0, 3, 3, 3, 1, 2, 7, 5, 0, 4, 2, 1, 5, 0, 5, 0,\n",
       "       3, 3, 0, 7, 6, 6, 3, 6, 6, 7, 4, 4, 6, 0, 1, 4, 7, 5, 5, 3, 1, 1,\n",
       "       1, 0, 0, 2, 2, 2, 0, 1, 1, 5, 5, 4, 6, 1, 5, 7, 6, 7, 3, 0, 4, 5,\n",
       "       7, 5, 1, 5, 5, 3, 1, 2, 5, 4, 6, 1, 2, 3, 5, 6, 4, 3, 4, 1, 5, 2,\n",
       "       2, 7, 2, 3, 1, 2, 4, 1, 5, 4, 7, 0, 7, 4, 3, 6, 1, 4, 7, 7, 6, 0,\n",
       "       7, 3, 5, 5, 7, 6, 5, 3, 2, 0, 4, 6, 2, 2, 0, 2, 6, 7, 2, 6, 0, 2,\n",
       "       1, 4, 2, 6, 1, 4, 4, 4, 6, 6, 4, 7, 7, 0, 2, 5, 3, 0, 7, 4, 2, 1,\n",
       "       2, 3, 4, 1, 1, 2, 0, 6, 7, 1, 4, 0, 5, 4, 3, 1, 6, 6, 1, 1, 0, 2,\n",
       "       4, 1, 7, 0, 4, 6, 4, 0, 1, 4, 0, 5, 2, 4, 4, 3, 6, 7, 7, 4, 2, 1,\n",
       "       5, 0, 2, 6, 6, 2, 6, 1, 7, 1, 7, 3, 0, 6, 1, 0, 5, 2, 0, 4, 2, 6,\n",
       "       7, 1, 7, 7, 0, 2, 7, 4, 1, 2, 3, 1, 2, 0, 4, 0, 7, 0, 2, 5, 1, 6,\n",
       "       7, 0, 3, 1, 2, 0, 7, 0, 5, 5, 5, 0, 5, 5, 0, 1, 4, 6, 5, 1, 6, 6,\n",
       "       6, 3, 2, 4, 2, 6, 0, 7, 5, 5, 3, 5, 3, 4, 1, 4, 5, 5, 5, 7, 0, 1,\n",
       "       3, 2, 6, 3, 0, 2, 2, 3, 3, 2, 0, 4, 4, 3, 6, 0, 3, 0, 0, 7, 2, 1,\n",
       "       3, 2, 5, 2, 6, 1, 2, 1, 0, 2, 6, 3, 1, 3, 6, 7, 0, 5, 0, 6, 4, 7,\n",
       "       6, 5, 5, 7, 2, 0, 2, 1, 3, 5, 3, 4, 7, 3, 3, 1, 1, 5, 4, 5, 6, 7,\n",
       "       1, 1, 7, 2, 5, 3, 4, 0, 5, 3, 1, 4, 0, 1, 6, 5, 0, 4, 4, 4, 0, 5,\n",
       "       4, 0, 3, 7, 4, 1, 6, 2, 4, 1, 4, 3, 6, 4, 3, 3, 7, 6, 7, 0, 6, 0,\n",
       "       6, 0, 3, 5, 3, 5, 2, 7, 2, 7, 6, 4, 2, 4, 1, 6, 2, 0, 7, 4, 0, 1,\n",
       "       0, 6, 1, 1, 4, 3, 1, 2, 4, 4, 4, 5, 7, 2, 7, 0, 4, 3, 4, 0, 3, 1,\n",
       "       5, 6, 4, 2, 7, 2, 4, 3, 7, 3, 6, 6, 2, 2, 4, 3, 4, 5, 2, 7, 1, 4,\n",
       "       0, 7, 6, 4, 2, 0, 5, 2, 5, 1, 0, 0, 0, 5, 5, 6, 2, 0, 6, 6, 1, 4,\n",
       "       7, 5, 7, 0, 3, 5, 5, 7, 1, 0, 7, 4, 3, 0, 4, 6, 7, 5, 4, 0, 7, 7,\n",
       "       5, 0, 4, 7, 2, 4, 6, 6, 6, 0, 5, 7, 7, 1, 7, 0, 3, 4, 7, 5, 5, 6,\n",
       "       3, 6, 1, 0, 5, 5, 6, 4, 6, 6, 3, 6, 6, 1, 2, 0, 0, 1, 5, 6, 2, 1,\n",
       "       5, 6, 4, 5, 5, 2, 2, 6, 3, 7, 0, 7, 0, 0, 0, 5, 1, 0, 3, 1, 2, 1,\n",
       "       6, 3, 2, 5, 5, 7, 1, 2, 3, 7, 6, 2, 0, 7, 2, 6, 1, 1, 7, 4, 1, 2,\n",
       "       5, 0, 7, 5, 6, 1, 0, 3, 3, 0, 1, 6, 5, 3, 3, 7, 4, 0, 1, 3, 6, 2,\n",
       "       5, 6, 1, 6, 3, 2, 6, 4, 6, 3, 0, 7, 6, 3, 7, 0, 6, 3, 4, 4, 5, 3,\n",
       "       4, 2, 7, 0, 4, 5, 1, 4, 2, 1, 6, 5, 6, 7, 2, 1, 6, 4, 7, 6, 0, 0,\n",
       "       1, 3, 7, 0, 0, 5, 5, 2, 6, 2, 1, 5, 2, 2, 1, 0, 4, 0, 7, 0, 1, 0,\n",
       "       4, 4, 7, 5, 2, 6, 6, 3, 5, 7, 3, 2, 2, 2, 7, 4, 1, 1, 6, 2, 4, 7,\n",
       "       5, 3, 5, 3, 0, 0, 4, 4])"
      ]
     },
     "execution_count": 31,
     "metadata": {},
     "output_type": "execute_result"
    }
   ],
   "source": [
    "pred_y = np.argmax(pred_y, axis=1)\n",
    "pred_y"
   ]
  },
  {
   "cell_type": "code",
   "execution_count": 33,
   "id": "28ecdc6b",
   "metadata": {},
   "outputs": [],
   "source": [
    "result = confusion_matrix(test_y, pred_y)"
   ]
  },
  {
   "cell_type": "code",
   "execution_count": 34,
   "id": "20a222bd",
   "metadata": {},
   "outputs": [
    {
     "data": {
      "text/plain": [
       "array([[110,   0,   0,   0,   6,   0,   0,   0],\n",
       "       [  0,  97,   0,   0,   2,   0,   0,   0],\n",
       "       [  0,   0, 102,   0,   0,   0,   0,   0],\n",
       "       [  3,   0,   0,  82,   0,   0,   3,   0],\n",
       "       [  2,   5,   0,   1,  95,   0,   1,   1],\n",
       "       [  1,   0,   0,   0,   0,  98,   0,   0],\n",
       "       [  0,   0,   0,   1,   0,   0,  96,   3],\n",
       "       [  1,   0,   0,   0,   1,   0,   0,  89]])"
      ]
     },
     "execution_count": 34,
     "metadata": {},
     "output_type": "execute_result"
    }
   ],
   "source": [
    "result"
   ]
  },
  {
   "cell_type": "code",
   "execution_count": null,
   "id": "6cb5c880",
   "metadata": {},
   "outputs": [],
   "source": []
  }
 ],
 "metadata": {
  "kernelspec": {
   "display_name": "Python 3 (ipykernel)",
   "language": "python",
   "name": "python3"
  },
  "language_info": {
   "codemirror_mode": {
    "name": "ipython",
    "version": 3
   },
   "file_extension": ".py",
   "mimetype": "text/x-python",
   "name": "python",
   "nbconvert_exporter": "python",
   "pygments_lexer": "ipython3",
   "version": "3.10.6 (main, Aug 10 2022, 11:19:32) [GCC 12.1.0]"
  },
  "vscode": {
   "interpreter": {
    "hash": "97cc609b13305c559618ec78a438abc56230b9381f827f22d070313b9a1f3777"
   }
  }
 },
 "nbformat": 4,
 "nbformat_minor": 5
}
